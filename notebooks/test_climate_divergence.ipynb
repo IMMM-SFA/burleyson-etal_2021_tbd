{
 "cells": [
  {
   "cell_type": "markdown",
   "id": "cf71c799-c510-46c7-a94c-c49fdc19edca",
   "metadata": {},
   "source": [
    "This notebook can be used to explore when two climate scenarios from IM3 diverge from one another statistically. The divergence can be calculated on county- or BA-level meteorology time-series processed as part of the wrf-to-tell processing pipeline."
   ]
  },
  {
   "cell_type": "code",
   "execution_count": null,
   "id": "e4d875c2-896e-47e9-a005-5edc1335281c",
   "metadata": {},
   "outputs": [],
   "source": [
    "# Start by importing the necessary libraries:\n",
    "import os \n",
    "import tell\n"
   ]
  }
 ],
 "metadata": {
  "kernelspec": {
   "display_name": "py3.9.4_tell",
   "language": "python",
   "name": "py3.9.4_tell"
  },
  "language_info": {
   "codemirror_mode": {
    "name": "ipython",
    "version": 3
   },
   "file_extension": ".py",
   "mimetype": "text/x-python",
   "name": "python",
   "nbconvert_exporter": "python",
   "pygments_lexer": "ipython3",
   "version": "3.9.4"
  }
 },
 "nbformat": 4,
 "nbformat_minor": 5
}
