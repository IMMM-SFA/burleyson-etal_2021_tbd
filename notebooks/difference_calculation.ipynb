{
 "cells": [
  {
   "cell_type": "markdown",
   "id": "dd40f4f4-5a80-40b7-94b3-aed136daa9d8",
   "metadata": {},
   "source": [
    "# Example Calculation of the Load Differences Between a Pair of Scenarios\n"
   ]
  },
  {
   "cell_type": "code",
   "execution_count": null,
   "id": "27e597e9-538f-41d4-afa9-a268b10ab1df",
   "metadata": {},
   "outputs": [],
   "source": [
    "# Start by importing the packages we need:\n",
    "import os\n",
    "\n",
    "import pandas as pd\n",
    "import matplotlib.pyplot as plt\n",
    "from mpl_toolkits.axes_grid1.inset_locator import inset_axes\n"
   ]
  },
  {
   "cell_type": "markdown",
   "id": "795f6fe5-0769-4298-887e-7c4cffc64a0d",
   "metadata": {},
   "source": [
    "## Set the Directory Structure"
   ]
  },
  {
   "cell_type": "code",
   "execution_count": null,
   "id": "bd887600-32da-46dc-b411-fa63c75f564f",
   "metadata": {
    "pycharm": {
     "name": "#%%\n"
    }
   },
   "outputs": [],
   "source": [
    "# Identify the data input and image output directories:\n",
    "data_input_dir =  '/Users/burl878/Documents/IMMM/Data/TELL/Production_Runs_V2/tell_data/outputs/tell_output/'\n",
    "image_output_dir =  '/Users/burl878/Documents/Code/code_repos/burleyson-etal_2024_applied_energy/figures/'\n"
   ]
  },
  {
   "cell_type": "markdown",
   "id": "78893b17-7c20-4ea5-8292-90dea6799307",
   "metadata": {},
   "source": [
    "## Process the Data\n"
   ]
  },
  {
   "cell_type": "code",
   "execution_count": null,
   "id": "5d2aa6e6-00de-41a5-857e-77ad7b1049b0",
   "metadata": {},
   "outputs": [],
   "source": [
    "# Read in the state-level time series for 'rcp85hotter_ssp5':\n",
    "df_one = pd.read_csv(data_input_dir + 'rcp85hotter_ssp5/2080/TELL_Balancing_Authority_Hourly_Load_Data_2080_Scaled_2080.csv')\n",
    "\n",
    "# Rename a few columns for simplicity:\n",
    "df_one.rename(columns={'Scaled_TELL_BA_Load_MWh': 'Load_One_MWh'}, inplace=True)\n",
    "\n",
    "# Only keep the columns that are needed:\n",
    "df_one = df_one[['BA_Code', 'Time_UTC', 'Load_One_MWh']].copy()\n",
    "\n",
    "# Read in the state-level time series for 'rcp45hotter_ssp5':\n",
    "df_two = pd.read_csv(data_input_dir + 'rcp85cooler_ssp5/2080/TELL_Balancing_Authority_Hourly_Load_Data_2080_Scaled_2080.csv')\n",
    "            \n",
    "# Rename a few columns for simplicity:\n",
    "df_two.rename(columns={'Scaled_TELL_BA_Load_MWh': 'Load_Two_MWh'}, inplace=True)\n",
    "       \n",
    "# Only keep the columns that are needed:\n",
    "df_two = df_two[['BA_Code', 'Time_UTC', 'Load_Two_MWh']].copy()\n",
    "        \n",
    "# Merge the two time series together on state name and time:\n",
    "merged_df = df_one.merge(df_two, on=['BA_Code', 'Time_UTC'])\n",
    "            \n",
    "# Calculate the mean load between the two time-series as well as the absolute and relative load biases:\n",
    "merged_df['Mean_Load_MWh'] =  merged_df[['Load_One_MWh', 'Load_Two_MWh']].mean(axis=1)\n",
    "merged_df['Absolute_Difference_MWh'] = abs(merged_df['Load_One_MWh'] - merged_df['Load_Two_MWh'])\n",
    "merged_df['Relative_Difference_%'] = 100*(merged_df['Absolute_Difference_MWh']/merged_df['Mean_Load_MWh']).round(4)\n",
    "\n",
    "# Convert the time to a datetime variable:\n",
    "merged_df['Time_UTC'] = pd.to_datetime(merged_df['Time_UTC'], format='%Y-%m-%d %H:%M:%S')\n",
    "\n",
    "# Subset to just the data for CISO:\n",
    "merged_df = merged_df[merged_df['BA_Code'] == 'CISO'].copy()\n",
    "\n",
    "# Subset to the top 10% of all mean load hours:\n",
    "peak_df = merged_df.nlargest(876,'Mean_Load_MWh')\n",
    "\n",
    "# Compute the mean absolute and relative differences for the full dataset and peak subset:\n",
    "merged_df['Mean_Abs_Diff_MWh'] = merged_df['Absolute_Difference_MWh'].mean().round(2)\n",
    "merged_df['Mean_Rel_Diff_%'] = merged_df['Relative_Difference_%'].mean().round(2)\n",
    "merged_df['Peak_Abs_Diff_M1_MWh'] = peak_df['Absolute_Difference_MWh'].mean().round(2)\n",
    "merged_df['Peak_Rel_Diff_M1_%'] = peak_df['Relative_Difference_%'].mean().round(2)\n",
    "#merged_df['Peak_Abs_Diff_M2_MWh'] = (abs(merged_df['Load_One_MWh'].max() - merged_df['Load_Two_MWh'].max())).round(2)\n",
    "merged_df['Peak_Abs_Diff_M2_MWh'] = (abs(merged_df['Load_One_MWh'].max() - merged_df['Load_Two_MWh'].max()))\n",
    "merged_df['Peak_Rel_Diff_M2_%'] = 100*(merged_df['Peak_Abs_Diff_M2_MWh'] / ((merged_df['Load_One_MWh'].max() + merged_df['Load_Two_MWh'].max())/2)).round(2)\n",
    "\n",
    "merged_df\n"
   ]
  },
  {
   "cell_type": "markdown",
   "id": "0dc65f89-cd8f-4a78-9cb9-c93e4f6b91ac",
   "metadata": {},
   "source": [
    "## Make the Plot\n"
   ]
  },
  {
   "cell_type": "code",
   "execution_count": null,
   "id": "25f80ce4-437c-468a-ad72-02fe23b3fa22",
   "metadata": {},
   "outputs": [],
   "source": [
    "# Make the plot:\n",
    "plt.figure(figsize=(24, 20))\n",
    "plt.rcParams['font.size'] = 16\n",
    "    \n",
    "plt.subplot(311)\n",
    "plt.plot(merged_df['Time_UTC'], merged_df['Load_One_MWh'], color='r', linestyle='-', label='rcp85hotter_ssp5', linewidth=1)\n",
    "plt.plot(merged_df['Time_UTC'], merged_df['Load_Two_MWh'], color='b', linestyle='-', label='rcp85cooler_ssp5', linewidth=1)\n",
    "plt.legend(loc='upper left', prop={'size': 14})\n",
    "plt.xlabel('')\n",
    "plt.ylabel('Hourly Load [MWh]')\n",
    "plt.title('CISO Load Time Series in 2080')\n",
    "plt.title('a)', loc='left', fontsize=16)\n",
    "\n",
    "plt.subplot(312)\n",
    "plt.plot(merged_df['Time_UTC'], merged_df['Absolute_Difference_MWh'], color='c', linestyle='-', label='rcp85hotter_ssp5 - rcp85cooler_ssp5', linewidth=1)\n",
    "plt.plot(merged_df['Time_UTC'], merged_df['Mean_Abs_Diff_MWh'], color='k', linestyle='-', label='Mean Load Difference', linewidth=1)\n",
    "plt.plot(merged_df['Time_UTC'], merged_df['Peak_Abs_Diff_M2_MWh'], color='gray', linestyle='-', label='Peak Load Difference', linewidth=1)\n",
    "plt.legend(loc='upper left', prop={'size': 14})\n",
    "plt.xlabel('') \n",
    "plt.ylabel('Absolute Difference [MWh]')\n",
    "plt.title('Absolute Difference in Demand')\n",
    "plt.title('b)', loc='left', fontsize=16)\n",
    "\n",
    "plt.subplot(313)\n",
    "plt.plot(merged_df['Time_UTC'], merged_df['Relative_Difference_%'], color='m', linestyle='-', label='rcp85hotter_ssp5 - rcp85cooler_ssp5', linewidth=1)\n",
    "plt.plot(merged_df['Time_UTC'], merged_df['Mean_Rel_Diff_%'], color='k', linestyle='-', label='Mean Load Difference', linewidth=1)\n",
    "plt.plot(merged_df['Time_UTC'], merged_df['Peak_Rel_Diff_M2_%'], color='gray', linestyle='-', label='Peak Load Difference', linewidth=1)\n",
    "plt.legend(loc='upper left', prop={'size': 14})\n",
    "plt.xlabel('') \n",
    "plt.ylabel('Relative Difference [%]')\n",
    "plt.title('Relative Difference in Demand ')\n",
    "plt.title('c)', loc='left', fontsize=16)\n",
    "\n",
    "filename = ('Calculations.png')\n",
    "plt.savefig(os.path.join(image_output_dir, filename), dpi=300, bbox_inches='tight', facecolor='white')\n"
   ]
  },
  {
   "cell_type": "code",
   "execution_count": null,
   "id": "7f0bead3-bb5a-4451-9e23-7d9660c12c70",
   "metadata": {},
   "outputs": [],
   "source": [
    "pd.to_datetime('2080-08-10 00:00:00')\n"
   ]
  },
  {
   "cell_type": "code",
   "execution_count": null,
   "id": "de3947b0-b45e-44d2-978b-2137c034b280",
   "metadata": {},
   "outputs": [],
   "source": [
    "# Make the plot:\n",
    "fig, (ax1, ax2, ax3) = plt.subplots(3, 1, figsize=[24, 20])\n",
    "plt.rcParams['font.size'] = 18\n",
    "\n",
    "axins1 = inset_axes(ax1, width=\"35%\", height=\"40%\", loc=2, borderpad=0.6)\n",
    "axins2 = inset_axes(ax2, width=\"35%\", height=\"40%\", loc=2, borderpad=0.6)\n",
    "axins3 = inset_axes(ax3, width=\"35%\", height=\"40%\", loc=2, borderpad=0.6)\n",
    "\n",
    "ax1.plot(merged_df['Time_UTC'], merged_df['Load_One_MWh'], color='r', linestyle='-', label='rcp85hotter_ssp5', linewidth=1)\n",
    "ax1.plot(merged_df['Time_UTC'], merged_df['Load_Two_MWh'], color='b', linestyle='-', label='rcp85cooler_ssp5', linewidth=1)\n",
    "ax1.plot([pd.to_datetime('2080-08-11 12:00:00'), pd.to_datetime('2080-08-11 12:00:00')], [38000, 112000], color='k', linestyle='--', label='', linewidth=3)\n",
    "ax1.plot([pd.to_datetime('2080-08-17 12:00:00'), pd.to_datetime('2080-08-17 12:00:00')], [38000, 112000], color='k', linestyle='--', label='', linewidth=3)\n",
    "axins1.plot(merged_df['Time_UTC'], merged_df['Load_One_MWh'], color='r', linestyle='-', label='rcp85hotter_ssp5', linewidth=1)\n",
    "axins1.plot(merged_df['Time_UTC'], merged_df['Load_Two_MWh'], color='b', linestyle='-', label='rcp85cooler_ssp5', linewidth=1)\n",
    "ax1.legend(loc='upper right', prop={'size': 14})\n",
    "ax1.set(xlim=(pd.to_datetime(merged_df['Time_UTC'].min()), pd.to_datetime(merged_df['Time_UTC'].max())), ylim=(38000, 112000))\n",
    "axins1.set(xlim=(pd.to_datetime('2080-08-11 12:00:00'), pd.to_datetime('2080-08-17 12:00:00')), ylim=(38000, 112000))\n",
    "ax1.set_xlabel('')\n",
    "ax1.set_ylabel('Hourly Load [MWh]')\n",
    "ax1.set_title('CISO Load Time Series in 2080')\n",
    "ax1.set_title('a)', loc='left', fontsize=18)\n",
    "\n",
    "ax2.plot(merged_df['Time_UTC'], merged_df['Absolute_Difference_MWh'], color='c', linestyle='-', label='rcp85hotter_ssp5 - rcp85cooler_ssp5', linewidth=1)\n",
    "ax2.plot(merged_df['Time_UTC'], merged_df['Mean_Abs_Diff_MWh'], color='k', linestyle='-', label='Mean Load Difference', linewidth=2)\n",
    "ax2.plot(merged_df['Time_UTC'], merged_df['Peak_Abs_Diff_M2_MWh'], color='gray', linestyle='-', label='Peak Load Difference', linewidth=2)\n",
    "ax2.plot([pd.to_datetime('2080-08-11 12:00:00'), pd.to_datetime('2080-08-11 12:00:00')], [0, 7500], color='k', linestyle='--', label='', linewidth=3)\n",
    "ax2.plot([pd.to_datetime('2080-08-17 12:00:00'), pd.to_datetime('2080-08-17 12:00:00')], [0, 7500], color='k', linestyle='--', label='', linewidth=3)\n",
    "axins2.plot(merged_df['Time_UTC'], merged_df['Absolute_Difference_MWh'], color='c', linestyle='-', label='rcp85hotter_ssp5 - rcp85cooler_ssp5', linewidth=1)\n",
    "ax2.legend(loc='upper right', prop={'size': 14})\n",
    "ax2.set(xlim=(pd.to_datetime(merged_df['Time_UTC'].min()), pd.to_datetime(merged_df['Time_UTC'].max())), ylim=(0, 7500))\n",
    "axins2.set(xlim=(pd.to_datetime('2080-08-11 12:00:00'), pd.to_datetime('2080-08-17 12:00:00')), ylim=(0, 7500))\n",
    "ax2.set_xlabel('') \n",
    "ax2.set_ylabel('Absolute Difference [MWh]')\n",
    "ax2.set_title('Absolute Difference in Demand')\n",
    "ax2.set_title('b)', loc='left', fontsize=18)\n",
    "\n",
    "ax3.plot(merged_df['Time_UTC'], merged_df['Relative_Difference_%'], color='m', linestyle='-', label='rcp85hotter_ssp5 - rcp85cooler_ssp5', linewidth=1)\n",
    "ax3.plot(merged_df['Time_UTC'], merged_df['Mean_Rel_Diff_%'], color='k', linestyle='-', label='Mean Load Difference', linewidth=2)\n",
    "ax3.plot(merged_df['Time_UTC'], merged_df['Peak_Rel_Diff_M2_%'], color='gray', linestyle='-', label='Peak Load Difference', linewidth=2)\n",
    "ax3.plot([pd.to_datetime('2080-08-11 12:00:00'), pd.to_datetime('2080-08-11 12:00:00')], [0, 11], color='k', linestyle='--', label='', linewidth=3)\n",
    "ax3.plot([pd.to_datetime('2080-08-17 12:00:00'), pd.to_datetime('2080-08-17 12:00:00')], [0, 11], color='k', linestyle='--', label='', linewidth=3)\n",
    "axins3.plot(merged_df['Time_UTC'], merged_df['Relative_Difference_%'], color='m', linestyle='-', label='rcp85hotter_ssp5 - rcp85cooler_ssp5', linewidth=1)\n",
    "ax3.legend(loc='upper right', prop={'size': 14})\n",
    "ax3.set(xlim=(pd.to_datetime(merged_df['Time_UTC'].min()), pd.to_datetime(merged_df['Time_UTC'].max())), ylim=(0, 11))\n",
    "axins3.set(xlim=(pd.to_datetime('2080-08-11 12:00:00'), pd.to_datetime('2080-08-17 12:00:00')), ylim=(0, 11))\n",
    "ax3.set_xlabel('') \n",
    "ax3.set_ylabel('Relative Difference [%]')\n",
    "ax3.set_title('Relative Difference in Demand ')\n",
    "ax3.set_title('c)', loc='left', fontsize=18)\n",
    "\n",
    "for axi in [axins1, axins2, axins3]:\n",
    "    axi.tick_params(labelleft=False, labelbottom=False)\n",
    "\n",
    "filename = ('Calculations.png')\n",
    "plt.savefig(os.path.join(image_output_dir, filename), dpi=300, bbox_inches='tight', facecolor='white')\n"
   ]
  },
  {
   "cell_type": "code",
   "execution_count": null,
   "id": "25c2d2d2-dadf-45cf-b0e1-40b8856595f9",
   "metadata": {},
   "outputs": [],
   "source": []
  }
 ],
 "metadata": {
  "kernelspec": {
   "display_name": "tell",
   "language": "python",
   "name": "tell"
  },
  "language_info": {
   "codemirror_mode": {
    "name": "ipython",
    "version": 3
   },
   "file_extension": ".py",
   "mimetype": "text/x-python",
   "name": "python",
   "nbconvert_exporter": "python",
   "pygments_lexer": "ipython3",
   "version": "3.10.8"
  }
 },
 "nbformat": 4,
 "nbformat_minor": 5
}
