{
 "cells": [
  {
   "cell_type": "markdown",
   "id": "dd40f4f4-5a80-40b7-94b3-aed136daa9d8",
   "metadata": {},
   "source": [
    "# Example Calculation of the Change in Load Peakiness Across Scenarios\n"
   ]
  },
  {
   "cell_type": "code",
   "execution_count": null,
   "id": "27e597e9-538f-41d4-afa9-a268b10ab1df",
   "metadata": {},
   "outputs": [],
   "source": [
    "# Start by importing the packages we need:\n",
    "import os\n",
    "\n",
    "import pandas as pd\n",
    "import matplotlib.pyplot as plt\n",
    "\n",
    "from mpl_toolkits.axes_grid1.inset_locator import inset_axes\n"
   ]
  },
  {
   "cell_type": "markdown",
   "id": "795f6fe5-0769-4298-887e-7c4cffc64a0d",
   "metadata": {},
   "source": [
    "## Set the Directory Structure\n"
   ]
  },
  {
   "cell_type": "code",
   "execution_count": null,
   "id": "bd887600-32da-46dc-b411-fa63c75f564f",
   "metadata": {
    "pycharm": {
     "name": "#%%\n"
    }
   },
   "outputs": [],
   "source": [
    "# Identify the data input and image output directories:\n",
    "data_input_dir =  '/Users/burl878/Documents/IMMM/Data/TELL/Production_Runs_V2/tell_data/outputs/tell_output/'\n",
    "image_output_dir =  '/Users/burl878/Documents/Code/code_repos/burleyson-etal_2024_applied_energy/figures/'\n"
   ]
  },
  {
   "cell_type": "markdown",
   "id": "dd14b363-f895-4a7e-883f-f780c3ff0405",
   "metadata": {},
   "source": [
    "## Set the BA and Base Year to Plot\n"
   ]
  },
  {
   "cell_type": "code",
   "execution_count": null,
   "id": "f29ecd24-b5d9-48ce-8a8e-fb66f8a4826f",
   "metadata": {},
   "outputs": [],
   "source": [
    "# Set the BA you want to plot:\n",
    "ba_to_plot = 'PJM'\n",
    "\n",
    "# Set the weather year you want to plot:\n",
    "base_year_to_plot = 2010\n"
   ]
  },
  {
   "cell_type": "markdown",
   "id": "78893b17-7c20-4ea5-8292-90dea6799307",
   "metadata": {},
   "source": [
    "## Process the Data\n"
   ]
  },
  {
   "cell_type": "code",
   "execution_count": null,
   "id": "5d2aa6e6-00de-41a5-857e-77ad7b1049b0",
   "metadata": {},
   "outputs": [],
   "source": [
    "# Read in and process the historical load duration curve:\n",
    "ba_historic_df = pd.read_csv(data_input_dir + 'historic/' + str(base_year_to_plot) + '/TELL_Balancing_Authority_Hourly_Load_Data_' + str(base_year_to_plot) + '_Scaled_' + str(base_year_to_plot) + '.csv')\n",
    "ba_historic_df = ba_historic_df[ba_historic_df['BA_Code'] == ba_to_plot].copy()\n",
    "ba_historic_df['Load_Normalized'] = (ba_historic_df['Scaled_TELL_BA_Load_MWh'] / ba_historic_df['Scaled_TELL_BA_Load_MWh'].max())\n",
    "ba_historic_df = ba_historic_df.sort_values(by=['Load_Normalized'], ascending=False)\n",
    "ba_historic_df['Interval'] = 1\n",
    "ba_historic_df['Duration'] = ba_historic_df['Interval'].cumsum()\n",
    "ba_historic_df = ba_historic_df[['Load_Normalized', 'Duration']].copy()\n",
    "\n",
    "# Read in and process the rcp45cooler_ssp5 load duration curve:\n",
    "ba_rcp45cooler_ssp5_df = pd.read_csv(data_input_dir + 'rcp45cooler_ssp5/' + str(base_year_to_plot + 80) + '/TELL_Balancing_Authority_Hourly_Load_Data_' + str(base_year_to_plot + 80) + '_Scaled_' + str(base_year_to_plot + 80) + '.csv')\n",
    "ba_rcp45cooler_ssp5_df = ba_rcp45cooler_ssp5_df[ba_rcp45cooler_ssp5_df['BA_Code'] == ba_to_plot].copy()\n",
    "ba_rcp45cooler_ssp5_df['Load_Normalized'] = (ba_rcp45cooler_ssp5_df['Scaled_TELL_BA_Load_MWh'] / ba_rcp45cooler_ssp5_df['Scaled_TELL_BA_Load_MWh'].max())\n",
    "ba_rcp45cooler_ssp5_df = ba_rcp45cooler_ssp5_df.sort_values(by=['Load_Normalized'], ascending=False)\n",
    "ba_rcp45cooler_ssp5_df['Interval'] = 1\n",
    "ba_rcp45cooler_ssp5_df['Duration'] = ba_rcp45cooler_ssp5_df['Interval'].cumsum()\n",
    "ba_rcp45cooler_ssp5_df = ba_rcp45cooler_ssp5_df[['Load_Normalized', 'Duration']].copy()\n",
    "\n",
    "# Read in and process the rcp45hotter_ssp5 load duration curve:\n",
    "ba_rcp45hotter_ssp5_df = pd.read_csv(data_input_dir + 'rcp45hotter_ssp5/' + str(base_year_to_plot + 80) + '/TELL_Balancing_Authority_Hourly_Load_Data_' + str(base_year_to_plot + 80) + '_Scaled_' + str(base_year_to_plot + 80) + '.csv')\n",
    "ba_rcp45hotter_ssp5_df = ba_rcp45hotter_ssp5_df[ba_rcp45hotter_ssp5_df['BA_Code'] == ba_to_plot].copy()\n",
    "ba_rcp45hotter_ssp5_df['Load_Normalized'] = (ba_rcp45hotter_ssp5_df['Scaled_TELL_BA_Load_MWh'] / ba_rcp45hotter_ssp5_df['Scaled_TELL_BA_Load_MWh'].max())\n",
    "ba_rcp45hotter_ssp5_df = ba_rcp45hotter_ssp5_df.sort_values(by=['Load_Normalized'], ascending=False)\n",
    "ba_rcp45hotter_ssp5_df['Interval'] = 1\n",
    "ba_rcp45hotter_ssp5_df['Duration'] = ba_rcp45hotter_ssp5_df['Interval'].cumsum()\n",
    "ba_rcp45hotter_ssp5_df = ba_rcp45hotter_ssp5_df[['Load_Normalized', 'Duration']].copy()\n",
    "\n",
    "# Read in and process the rcp85cooler_ssp5 load duration curve:\n",
    "ba_rcp85cooler_ssp5_df = pd.read_csv(data_input_dir + 'rcp85cooler_ssp5/' + str(base_year_to_plot + 80) + '/TELL_Balancing_Authority_Hourly_Load_Data_' + str(base_year_to_plot + 80) + '_Scaled_' + str(base_year_to_plot + 80) + '.csv')\n",
    "ba_rcp85cooler_ssp5_df = ba_rcp85cooler_ssp5_df[ba_rcp85cooler_ssp5_df['BA_Code'] == ba_to_plot].copy()\n",
    "ba_rcp85cooler_ssp5_df['Load_Normalized'] = (ba_rcp85cooler_ssp5_df['Scaled_TELL_BA_Load_MWh'] / ba_rcp85cooler_ssp5_df['Scaled_TELL_BA_Load_MWh'].max())\n",
    "ba_rcp85cooler_ssp5_df = ba_rcp85cooler_ssp5_df.sort_values(by=['Load_Normalized'], ascending=False)\n",
    "ba_rcp85cooler_ssp5_df['Interval'] = 1\n",
    "ba_rcp85cooler_ssp5_df['Duration'] = ba_rcp85cooler_ssp5_df['Interval'].cumsum()\n",
    "ba_rcp85cooler_ssp5_df = ba_rcp85cooler_ssp5_df[['Load_Normalized', 'Duration']].copy()\n",
    "\n",
    "# Read in and process the rcp85hotter_ssp5 load duration curve:\n",
    "ba_rcp85hotter_ssp5_df = pd.read_csv(data_input_dir + 'rcp85hotter_ssp5/' + str(base_year_to_plot + 80) + '/TELL_Balancing_Authority_Hourly_Load_Data_' + str(base_year_to_plot + 80) + '_Scaled_' + str(base_year_to_plot + 80) + '.csv')\n",
    "ba_rcp85hotter_ssp5_df = ba_rcp85hotter_ssp5_df[ba_rcp85hotter_ssp5_df['BA_Code'] == ba_to_plot].copy()\n",
    "ba_rcp85hotter_ssp5_df['Load_Normalized'] = (ba_rcp85hotter_ssp5_df['Scaled_TELL_BA_Load_MWh'] / ba_rcp85hotter_ssp5_df['Scaled_TELL_BA_Load_MWh'].max())\n",
    "ba_rcp85hotter_ssp5_df = ba_rcp85hotter_ssp5_df.sort_values(by=['Load_Normalized'], ascending=False)\n",
    "ba_rcp85hotter_ssp5_df['Interval'] = 1\n",
    "ba_rcp85hotter_ssp5_df['Duration'] = ba_rcp85hotter_ssp5_df['Interval'].cumsum()\n",
    "ba_rcp85hotter_ssp5_df = ba_rcp85hotter_ssp5_df[['Load_Normalized', 'Duration']].copy()\n"
   ]
  },
  {
   "cell_type": "markdown",
   "id": "0dc65f89-cd8f-4a78-9cb9-c93e4f6b91ac",
   "metadata": {},
   "source": [
    "## Make the Plot\n"
   ]
  },
  {
   "cell_type": "code",
   "execution_count": null,
   "id": "25f80ce4-437c-468a-ad72-02fe23b3fa22",
   "metadata": {},
   "outputs": [],
   "source": [
    "# Make the plot:\n",
    "fig = plt.figure(figsize=(24, 11))\n",
    "plt.rcParams.update({'font.size': 16})\n",
    "\n",
    "ax1 = fig.add_subplot(111)\n",
    "ax1.plot([0,275], [0.9,0.9], color='gray', linestyle='--', linewidth=2)\n",
    "ax1.plot([275,275], [0.9,1.005], color='gray', linestyle='--', linewidth=2)\n",
    "ax1.plot(ba_historic_df['Duration'], ba_historic_df['Load_Normalized'], color='black', linestyle='-', label='historic (2010)', linewidth=3)\n",
    "ax1.plot(ba_rcp45cooler_ssp5_df['Duration'], ba_rcp45cooler_ssp5_df['Load_Normalized'], color='blue', linestyle='-', label='rcp45cooler_ssp5 (2090)', linewidth=3)\n",
    "ax1.plot(ba_rcp45hotter_ssp5_df['Duration'], ba_rcp45hotter_ssp5_df['Load_Normalized'], color='cyan', linestyle='-', label='rcp45hotter_ssp5 (2090)', linewidth=3)\n",
    "ax1.plot(ba_rcp85cooler_ssp5_df['Duration'], ba_rcp85cooler_ssp5_df['Load_Normalized'], color='orange', linestyle='-', label='rcp85cooler_ssp5 (2090)', linewidth=3)\n",
    "ax1.plot(ba_rcp85hotter_ssp5_df['Duration'], ba_rcp85hotter_ssp5_df['Load_Normalized'], color='red', linestyle='-', label='rcp85hotter_ssp5 (2090)', linewidth=3)\n",
    "ax1.legend(loc='lower left', prop={'size': 14})\n",
    "ax1.set(xlim=(0, 8784), ylim=(0.3, 1.005))\n",
    "ax1.set(xlabel = 'Duration [h]', ylabel = 'Hourly Load Normalized by the Annual Maximum Load')\n",
    "ax1.set(title = (ba_to_plot + ' Historical and Projected Load Duration Curves Based on the ' + str(base_year_to_plot) + ' Weather Year'))\n",
    "\n",
    "ax2 = inset_axes(ax1, width=\"55%\", height=2.8, loc=1)\n",
    "ax2.plot(ba_historic_df['Duration'], ba_historic_df['Load_Normalized'], color='black', linestyle='-', label='historic', linewidth=3)\n",
    "ax2.plot(ba_rcp45cooler_ssp5_df['Duration'], ba_rcp45cooler_ssp5_df['Load_Normalized'], color='blue', linestyle='-', label='rcp45cooler_ssp5', linewidth=3)\n",
    "ax2.plot(ba_rcp45hotter_ssp5_df['Duration'], ba_rcp45hotter_ssp5_df['Load_Normalized'], color='cyan', linestyle='-', label='rcp45hotter_ssp5', linewidth=3)\n",
    "ax2.plot(ba_rcp85cooler_ssp5_df['Duration'], ba_rcp85cooler_ssp5_df['Load_Normalized'], color='orange', linestyle='-', label='rcp85cooler_ssp5', linewidth=3)\n",
    "ax2.plot(ba_rcp85hotter_ssp5_df['Duration'], ba_rcp85hotter_ssp5_df['Load_Normalized'], color='red', linestyle='-', label='rcp85hotter_ssp5', linewidth=3)\n",
    "ax2.set(xlim=(0, 275), ylim=(0.9, 1.005))\n",
    "\n",
    "filename = ('Peakiness_Calculation.png')\n",
    "plt.savefig(os.path.join(image_output_dir, filename), dpi=300, bbox_inches='tight', facecolor='white')\n"
   ]
  },
  {
   "cell_type": "code",
   "execution_count": null,
   "id": "25c2d2d2-dadf-45cf-b0e1-40b8856595f9",
   "metadata": {},
   "outputs": [],
   "source": []
  }
 ],
 "metadata": {
  "kernelspec": {
   "display_name": "py.3.9.15_tell",
   "language": "python",
   "name": "py.3.9.15_tell"
  },
  "language_info": {
   "codemirror_mode": {
    "name": "ipython",
    "version": 3
   },
   "file_extension": ".py",
   "mimetype": "text/x-python",
   "name": "python",
   "nbconvert_exporter": "python",
   "pygments_lexer": "ipython3",
   "version": "3.11.3"
  }
 },
 "nbformat": 4,
 "nbformat_minor": 5
}
