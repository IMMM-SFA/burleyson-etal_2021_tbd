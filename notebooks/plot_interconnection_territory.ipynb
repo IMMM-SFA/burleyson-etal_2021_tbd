{
 "cells": [
  {
   "cell_type": "markdown",
   "id": "dd40f4f4-5a80-40b7-94b3-aed136daa9d8",
   "metadata": {},
   "source": [
    "# Plot Maps of the Three Major Interconnections in the United States\n"
   ]
  },
  {
   "cell_type": "code",
   "execution_count": null,
   "id": "27e597e9-538f-41d4-afa9-a268b10ab1df",
   "metadata": {},
   "outputs": [],
   "source": [
    "# Start by importing the packages we need:\n",
    "import os\n",
    "\n",
    "import pandas as pd\n",
    "import geopandas as gpd\n",
    "import matplotlib.pyplot as plt\n",
    "\n",
    "from mpl_toolkits.axes_grid1 import make_axes_locatable\n"
   ]
  },
  {
   "cell_type": "markdown",
   "id": "795f6fe5-0769-4298-887e-7c4cffc64a0d",
   "metadata": {},
   "source": [
    "## Set the Directory Structure\n"
   ]
  },
  {
   "cell_type": "code",
   "execution_count": null,
   "id": "bd887600-32da-46dc-b411-fa63c75f564f",
   "metadata": {
    "pycharm": {
     "name": "#%%\n"
    }
   },
   "outputs": [],
   "source": [
    "# Identify the data input and image output directories:\n",
    "data_input_dir =  '/Users/burl878/Documents/Code/code_repos/burleyson-etal_2024_applied_energy/data'\n",
    "image_output_dir =  '/Users/burl878/Documents/Code/code_repos/burleyson-etal_2024_applied_energy/figures/Random/'\n"
   ]
  },
  {
   "cell_type": "markdown",
   "id": "0dc65f89-cd8f-4a78-9cb9-c93e4f6b91ac",
   "metadata": {},
   "source": [
    "## Create the Function to Plot the Service Territory for a Given BA\n"
   ]
  },
  {
   "cell_type": "code",
   "execution_count": null,
   "id": "25f80ce4-437c-468a-ad72-02fe23b3fa22",
   "metadata": {},
   "outputs": [],
   "source": [
    "# Read in the county shapefile and reassign the 'FIPS' variable as integers:\n",
    "ics_df = gpd.read_file(os.path.join(data_input_dir, r'interconnection_shapefiles', r'NERC_Regions_EIA.shp'))\n",
    "ics_df['color'] = ['r','r','r','r','r','b','c','r']\n",
    "\n",
    "# Reproject the shapefile onto latitute and longitude coordinates:\n",
    "ics_df  = ics_df.to_crs({'init': 'EPSG:4269'})\n",
    "\n",
    "# Read in the state shapefile:\n",
    "states_df = gpd.read_file(os.path.join(data_input_dir, r'state_shapefiles', 'tl_2022_us_state.shp')).rename(columns={'NAME': 'State'})\n",
    "\n",
    "# Create the figure:\n",
    "fig, ax = plt.subplots(1, 1, figsize=(25, 10))\n",
    "plt.rcParams['font.size'] = 18\n",
    "ax1 = ics_df.plot(ax=ax, edgecolor='black', linewidth=0, color=ics_df['color'])\n",
    "ax2 = states_df.boundary.plot(ax=ax, edgecolor='black', linewidth=1.5)\n",
    "ax.set_xlim(-126.5, -66);\n",
    "ax.set_xlabel('Longitude', fontsize=18); \n",
    "ax.set_ylim(24, 50); \n",
    "ax.set_ylabel('Latitude', fontsize=18);\n",
    "ax.set_title(('Approximate Interconnection Boundaries'), fontsize=21)\n",
    "\n",
    "ax.text(0.03, 0.20, 'Red = Eastern Interconnection [EIC]', transform=ax.transAxes, fontsize=18, verticalalignment='top')\n",
    "ax.text(0.03, 0.15, 'Teal = Western Interconnection [WIC]', transform=ax.transAxes, fontsize=18, verticalalignment='top')\n",
    "ax.text(0.03, 0.10, 'Blue = Texas Interconnection [ERCOT]', transform=ax.transAxes, fontsize=18, verticalalignment='top')\n",
    "\n",
    "filename = ('Interconnections_Map.png')\n",
    "plt.savefig(os.path.join(image_output_dir, filename), dpi=300, bbox_inches='tight', facecolor='white')\n"
   ]
  },
  {
   "cell_type": "code",
   "execution_count": null,
   "id": "504134d6-bd94-4d4e-bf84-9176557e237c",
   "metadata": {},
   "outputs": [],
   "source": []
  }
 ],
 "metadata": {
  "kernelspec": {
   "display_name": "tell",
   "language": "python",
   "name": "tell"
  },
  "language_info": {
   "codemirror_mode": {
    "name": "ipython",
    "version": 3
   },
   "file_extension": ".py",
   "mimetype": "text/x-python",
   "name": "python",
   "nbconvert_exporter": "python",
   "pygments_lexer": "ipython3",
   "version": "3.10.8"
  }
 },
 "nbformat": 4,
 "nbformat_minor": 5
}
